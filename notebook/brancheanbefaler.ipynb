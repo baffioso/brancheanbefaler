{
 "cells": [
  {
   "cell_type": "markdown",
   "metadata": {},
   "source": [
    "# Virksomhedsnavn --> Branche\n",
    "Denne notesbog gennemgår hvordan man ud fra data fra CVR og med hjælp fra Machine Learning (ML), kan anbefale en branche ud fra virksomhedens navn.\n",
    "\n",
    "## Indhold\n",
    "1. [Input](#Input)\n",
    "2. [Machine Learning](#Machine Learning)\n",
    "3. [Output](#Output)"
   ]
  },
  {
   "cell_type": "code",
   "execution_count": 1,
   "metadata": {
    "collapsed": true
   },
   "outputs": [],
   "source": [
    "import pandas as pd\n",
    "import numpy as np\n",
    "import matplotlib\n",
    "import matplotlib.pyplot as plt\n",
    "from sklearn.feature_extraction.text import CountVectorizer\n",
    "from sklearn.naive_bayes import MultinomialNB\n",
    "#from sklearn.linear_model import SGDClassifier\n",
    "from sklearn.feature_extraction.text import TfidfTransformer\n",
    "from sklearn.pipeline import Pipeline\n",
    "from sklearn.model_selection import train_test_split\n",
    "from sklearn.metrics import classification_report\n",
    "from sklearn.externals import joblib\n",
    "import nltk\n",
    "from nltk.corpus import stopwords\n",
    "from nltk.stem.snowball import DanishStemmer"
   ]
  },
  {
   "cell_type": "code",
   "execution_count": 2,
   "metadata": {},
   "outputs": [
    {
     "name": "stdout",
     "output_type": "stream",
     "text": [
      "[nltk_data] Downloading package stopwords to\n",
      "[nltk_data]     /Users/andersbarfod/nltk_data...\n",
      "[nltk_data]   Package stopwords is already up-to-date!\n"
     ]
    },
    {
     "data": {
      "text/plain": [
       "True"
      ]
     },
     "execution_count": 2,
     "metadata": {},
     "output_type": "execute_result"
    }
   ],
   "source": [
    "# Henter danske stopord\n",
    "nltk.download('stopwords')"
   ]
  },
  {
   "cell_type": "markdown",
   "metadata": {},
   "source": [
    "# Input"
   ]
  },
  {
   "cell_type": "code",
   "execution_count": 3,
   "metadata": {
    "collapsed": true
   },
   "outputs": [],
   "source": [
    "# Henter virksomhedsdata og fjerne rækker som mangler værdier\n",
    "cvr = pd.read_csv('data/cvr.csv').dropna(axis=0)"
   ]
  },
  {
   "cell_type": "code",
   "execution_count": 4,
   "metadata": {
    "collapsed": true
   },
   "outputs": [],
   "source": [
    "rank = cvr.groupby('hovedbranche_tekst') \\\n",
    "    .count() \\\n",
    "    .sort_values(by=['navn_tekst'], ascending=False) \\\n",
    "    .head(100)['hovedbranche_kode']"
   ]
  },
  {
   "cell_type": "code",
   "execution_count": 5,
   "metadata": {},
   "outputs": [
    {
     "data": {
      "text/plain": [
       "hovedbranche_tekst\n",
       "Andre organisationer og foreninger i.a.n.                          88306\n",
       "Ikke-finansielle holdingselskaber                                  56065\n",
       "Uoplyst                                                            43411\n",
       "Udlejning af erhvervsejendomme                                     30719\n",
       "Virksomhedsrådgivning og anden rådgivning om driftsledelse         21036\n",
       "Dyrkning af korn (undtagen ris), bælgfrugter og olieholdige frø    20073\n",
       "Konsulentbistand vedrørende informationsteknologi                  13338\n",
       "Tømrer- og bygningssnedkervirksomhed                               13257\n",
       "Computerprogrammering                                              10865\n",
       "Sundhedsvæsen i øvrigt i.a.n.                                       9820\n",
       "Name: hovedbranche_kode, dtype: int64"
      ]
     },
     "execution_count": 5,
     "metadata": {},
     "output_type": "execute_result"
    }
   ],
   "source": [
    "rank.head(10)"
   ]
  },
  {
   "cell_type": "markdown",
   "metadata": {},
   "source": [
    "Histogram over brancher"
   ]
  },
  {
   "cell_type": "code",
   "execution_count": 6,
   "metadata": {},
   "outputs": [
    {
     "data": {
      "text/plain": [
       "<matplotlib.axes._subplots.AxesSubplot at 0x10ef59400>"
      ]
     },
     "execution_count": 6,
     "metadata": {},
     "output_type": "execute_result"
    },
    {
     "data": {
      "image/png": "[encoded data removed]",
      "text/plain": [
       "<matplotlib.figure.Figure at 0x120ea47b8>"
      ]
     },
     "metadata": {},
     "output_type": "display_data"
    }
   ],
   "source": [
    "% matplotlib inline\n",
    "rank.hist(bins=30)"
   ]
  },
  {
   "cell_type": "markdown",
   "metadata": {},
   "source": [
    "Frasorterer de 6 største branchekoder da de vil skævvride modellen."
   ]
  },
  {
   "cell_type": "code",
   "execution_count": 7,
   "metadata": {
    "collapsed": true
   },
   "outputs": [],
   "source": [
    "cvr = cvr[~cvr['hovedbranche_kode'].isin([949900,642020,999999, 682040, 702200, 11100])]"
   ]
  },
  {
   "cell_type": "markdown",
   "metadata": {},
   "source": [
    "# Machine Learning\n",
    "Nu er data klar til at blive kørt igennem af ML-algoritmer "
   ]
  },
  {
   "cell_type": "markdown",
   "metadata": {},
   "source": [
    "### Tekstprocessering\n",
    "For at ensrette og reducere kompleksiteten i virksomhedsnavnene behandles teksten så stopord fjernes og ordstammen bestemmes."
   ]
  },
  {
   "cell_type": "code",
   "execution_count": 8,
   "metadata": {
    "collapsed": true
   },
   "outputs": [],
   "source": [
    "stopwords = stopwords.words('danish')"
   ]
  },
  {
   "cell_type": "code",
   "execution_count": 9,
   "metadata": {
    "collapsed": true
   },
   "outputs": [],
   "source": [
    "stemmer = DanishStemmer()"
   ]
  },
  {
   "cell_type": "code",
   "execution_count": 10,
   "metadata": {
    "collapsed": true
   },
   "outputs": [],
   "source": [
    "def text_process(name):\n",
    "    \"\"\"\n",
    "    Tekstprocessering som laver om til små bogstaver, fjerner stopord og finder ordstammen\n",
    "    \"\"\"\n",
    "    lst = name.lower().split(' ')\n",
    "    stop = [word for word in lst if word not in stopwords]\n",
    "    stem = [stemmer.stem(word) for word in stop]\n",
    "    \n",
    "    return stem"
   ]
  },
  {
   "cell_type": "markdown",
   "metadata": {},
   "source": [
    "### Træn, test og verificer modellen"
   ]
  },
  {
   "cell_type": "markdown",
   "metadata": {},
   "source": [
    "Datasættet opdeles i træning (70%) og test (30%)"
   ]
  },
  {
   "cell_type": "code",
   "execution_count": 11,
   "metadata": {
    "collapsed": true
   },
   "outputs": [],
   "source": [
    "navn_train, navn_test, branche_train, branche_test = \\\n",
    "train_test_split(cvr['navn_tekst'], cvr['hovedbranche_tekst'], test_size=0.3)"
   ]
  },
  {
   "cell_type": "markdown",
   "metadata": {},
   "source": [
    "Der oprettes pipeline som sørger for de forskellige skridt i modeltræningen"
   ]
  },
  {
   "cell_type": "code",
   "execution_count": 12,
   "metadata": {
    "collapsed": true,
    "scrolled": true
   },
   "outputs": [],
   "source": [
    "pipeline = Pipeline([\n",
    "    ('bow', CountVectorizer(analyzer=text_process)),  # strings to token integer counts\n",
    "    ('tfidf', TfidfTransformer()),  # integer counts to weighted TF-IDF scores\n",
    "    ('classifier', MultinomialNB()),  # train on TF-IDF vectors w/ Naive Bayes classifier\n",
    "])"
   ]
  },
  {
   "cell_type": "markdown",
   "metadata": {},
   "source": [
    "Modellen tilpasses data"
   ]
  },
  {
   "cell_type": "code",
   "execution_count": 13,
   "metadata": {
    "scrolled": true
   },
   "outputs": [
    {
     "data": {
      "text/plain": [
       "Pipeline(memory=None,\n",
       "     steps=[('bow', CountVectorizer(analyzer=<function text_process at 0x120c052f0>, binary=False,\n",
       "        decode_error='strict', dtype=<class 'numpy.int64'>,\n",
       "        encoding='utf-8', input='content', lowercase=True, max_df=1.0,\n",
       "        max_features=None, min_df=1, ngram_range=(1, 1), preprocessor=None,...f=False, use_idf=True)), ('classifier', MultinomialNB(alpha=1.0, class_prior=None, fit_prior=True))])"
      ]
     },
     "execution_count": 13,
     "metadata": {},
     "output_type": "execute_result"
    }
   ],
   "source": [
    "pipeline.fit(navn_train,branche_train)"
   ]
  },
  {
   "cell_type": "code",
   "execution_count": 14,
   "metadata": {
    "collapsed": true
   },
   "outputs": [],
   "source": [
    "predictions = pipeline.predict(navn_test)"
   ]
  },
  {
   "cell_type": "markdown",
   "metadata": {},
   "source": [
    "Laver rapport som viser hvor godt modellen klarer sig i forhold til test datasættet."
   ]
  },
  {
   "cell_type": "code",
   "execution_count": 15,
   "metadata": {
    "scrolled": false
   },
   "outputs": [
    {
     "name": "stdout",
     "output_type": "stream",
     "text": [
      "                                                                                                                  precision    recall  f1-score   support\n",
      "\n",
      "                                                                 Administration af fast ejendom på kontraktbasis       0.16      0.68      0.26       168\n",
      "                                                                  Administration af og bidrag til erhvervsfremme       0.00      0.00      0.00         0\n",
      "                Administration af sundhedsvæsen, undervisning, kultur og sociale forhold undtagen social sikring       0.00      0.00      0.00         0\n",
      "                                                                             Agenturhandel med blandet sortiment       0.00      0.00      0.00         0\n",
      "                             Agenturhandel med brændstoffer, malme, metaller og kemiske produkter til industrien       0.00      0.00      0.00         0\n",
      "                             Agenturhandel med landbrugsråvarer, levende dyr, tekstilmaterialer og halvfabrikata       0.00      0.00      0.00         0\n",
      "                                              Agenturhandel med maskiner, teknisk udstyr, skibe og flyvemaskiner       0.00      0.00      0.00         0\n",
      "                                                      Agenturhandel med møbler, husholdningsartikler og isenkram       0.00      0.00      0.00         0\n",
      "                                                            Agenturhandel med specialiseret varesortiment i.a.n.       0.00      0.00      0.00         0\n",
      "                                         Agenturhandel med tekstiler, beklædning, pelsværk, fodtøj og lædervarer       0.00      0.33      0.01         3\n",
      "                                                               Agenturhandel med tømmer og andre byggematerialer       0.00      0.00      0.00         0\n",
      "                                                                           Aktiviteter vedrørende fysisk velvære       0.10      0.72      0.18       134\n",
      "                                       Aktiviteter, der udøves efter produktion af film, video- og tv-programmer       0.00      0.00      0.00         0\n",
      "                                                                                 Aldersintegrerede institutioner       0.60      0.62      0.61       673\n",
      "                                                                                     Almennyttige boligselskaber       0.67      0.83      0.74       763\n",
      "                                                                                      Alment praktiserende læger       0.56      0.86      0.68       732\n",
      "                                                                                Almindelig rengøring i bygninger       0.49      0.51      0.50      1739\n",
      "                                                           Anden agenturhandel med føde-, drikke- og tobaksvarer       0.00      0.00      0.00         0\n",
      "                                                                                   Anden anlægsvirksomhed i.a.n.       0.00      0.00      0.00         0\n",
      "                                                     Anden bygge- og anlægsvirksomhed, som kræver specialisering       0.08      0.42      0.14       264\n",
      "                                                                                     Anden bygningsfærdiggørelse       0.00      0.00      0.00         0\n",
      "                                                                           Anden bygningsinstallationsvirksomhed       0.00      0.00      0.00         0\n",
      "                                                         Anden detailhandel fra ikke-specialiserede forretninger       0.21      1.00      0.34        19\n",
      "                                                          Anden detailhandel med fødevarer i specialforretninger       0.00      0.00      0.00         0\n",
      "                                          Anden detailhandel undtagen fra forretninger, stadepladser og markeder       0.01      0.50      0.02        10\n",
      "                                    Anden finansiel formidling undtagen forsikring og pensionsforsikring, i.a.n.       0.06      0.21      0.09       435\n",
      "                                                      Anden forarbejdning og konservering af frugt og grøntsager       0.00      0.00      0.00         0\n",
      "                                                                                 Anden forretningsservice i.a.n.       0.02      0.47      0.04        30\n",
      "                                                                                                Anden forsikring       0.01      0.50      0.02         2\n",
      "                                   Anden forskning og eksperimentel udvikling inden for naturvidenskab og teknik       0.00      0.00      0.00         0\n",
      "                                                                            Anden fremstillingsvirksomhed i.a.n.       0.00      0.00      0.00         0\n",
      "                                                                                      Anden it-servicevirksomhed       0.00      0.00      0.00         0\n",
      "                                                                                 Anden måling og teknisk analyse       0.00      0.00      0.00         0\n",
      "                                                                                        Anden pensionsforsikring       0.00      0.00      0.00         0\n",
      "                                                                                       Anden personaleformidling       0.00      0.00      0.00         0\n",
      "                                                                                         Anden reklamevirksomhed       0.00      0.00      0.00         0\n",
      "                                                    Anden rengøring af bygninger og rengøring af erhvervslokaler       0.00      0.00      0.00         0\n",
      "                                                                                   Anden restaurationsvirksomhed       0.35      0.87      0.50       341\n",
      "                                                                                   Anden råstofindvinding i.a.n.       0.00      0.00      0.00         0\n",
      "                                                                                        Anden teknisk rådgivning       0.01      0.38      0.01        16\n",
      "                                                                                         Anden telekommunikation       0.00      0.00      0.00         0\n",
      "                                                                                                  Anden trykning       0.00      0.00      0.00         1\n",
      "                                                                                     Anden udgivelse af software       0.00      0.00      0.00         0\n",
      "                                                                                         Anden udgivervirksomhed       0.00      0.00      0.00         0\n",
      "                                                                                      Anden udlejning af boliger       0.50      0.17      0.26      7605\n",
      "                                                                                       Anden undervisning i.a.n.       0.24      0.26      0.25      2220\n",
      "                                                                        Andre forlystelser og fritidsaktiviteter       0.00      0.00      0.00         0\n",
      "                                                                             Andre former for institutionsophold       0.00      0.00      0.00         0\n",
      "                                                    Andre hjælpetjenester i forbindelse med finansiel formidling       0.00      0.00      0.00         0\n",
      "                                        Andre hjælpetjenester i forbindelse med forsikring og pensionsforsikring       0.00      0.00      0.00         0\n",
      "                                                                              Andre informationstjenester i.a.n.       0.00      0.00      0.00         0\n",
      "                                                                                         Andre kreditinstitutter       0.00      0.00      0.00         0\n",
      "                                                                                           Andre kreditselskaber       0.00      0.00      0.00         0\n",
      "                                               Andre liberale, videnskabelige og tekniske tjenesteydelser i.a.n.       0.00      0.75      0.01         4\n",
      "                                                                                   Andre overnatningsfaciliteter       0.00      0.00      0.00         0\n",
      "                                                                          Andre personlige serviceydelser i.a.n.       0.04      0.69      0.08        52\n",
      "                                                                                   Andre post- og kurertjenester       0.02      0.88      0.04        17\n",
      "                                                                                         Andre rengøringsydelser       0.00      0.00      0.00         0\n",
      "                                       Andre reservationstjenesteydelser og tjenesteydelser i forbindelse hermed       0.00      0.00      0.00         0\n",
      "                                                   Andre sociale foranstaltninger uden institutionsophold i.a.n.       0.04      0.78      0.08        40\n",
      "                                                                                         Andre sportsaktiviteter       0.01      0.86      0.03         7\n",
      "                                                               Andre tjenesteydelser i forbindelse med transport       0.00      0.00      0.00         0\n",
      "                                                                                     Anlæg af broer og tunneller       0.00      0.00      0.00         0\n",
      "                                                                          Anlæg af jernbaner og undergrundsbaner       0.00      0.00      0.00         0\n",
      "                                                          Anlæg af ledningsnet til elektricitet og kommunikation       0.00      0.00      0.00         0\n",
      "                                                                                 Anlæg af ledningsnet til væsker       0.00      0.00      0.00         0\n",
      "                                                                    Anlæg af vandveje, havne, diger og dæmninger       0.00      0.00      0.00         0\n",
      "                                                                                      Anlæg af veje og motorveje       0.00      0.00      0.00         0\n",
      "                                                                                                        Apoteker       0.09      1.00      0.17        15\n",
      "                                                                                      Arbejdsformidlingskontorer       0.06      0.73      0.11        22\n",
      "                                                                                              Arkitektvirksomhed       0.34      0.89      0.49       460\n",
      "                                                                                                         Arkiver       0.00      0.00      0.00         0\n",
      "                                                                                   Autoreparationsværksteder mv.       0.57      0.44      0.49      2485\n",
      "                                                                                     Avl af andet kvæg og bøfler       0.00      0.00      0.00         0\n",
      "                                                                                             Avl af får og geder       0.00      0.00      0.00         0\n",
      "                                                                            Avl af heste og dyr af hestefamilien       0.02      0.47      0.04        15\n",
      "                                                                                                Avl af malkekvæg       0.33      0.25      0.28      2088\n",
      "                                                                                              Avl af pelsdyr mv.       0.16      0.92      0.27       101\n",
      "                                                                                                 Avl af smågrise       0.00      0.00      0.00         0\n",
      "                                                                           Babyudstyrs- og børnetøjsforretninger       0.00      0.00      0.00         0\n",
      "                                                                             Banker, sparekasser og andelskasser       0.76      0.92      0.83       330\n",
      "                                                                                    Bedemænd og begravelsesvæsen       0.03      1.00      0.06         4\n",
      "                                                                   Behandling og bortskaffelse af farligt affald       0.00      0.00      0.00         0\n",
      "                                                              Behandling og bortskaffelse af ikke-farligt affald       0.00      0.00      0.00         0\n",
      "                                                            Behandlingshjem for stofmisbrugere og alkoholskadede       0.00      0.00      0.00         0\n",
      "                                                                                         Beskyttede boliger o.l.       0.00      0.00      0.00         0\n",
      "                                                                                                    Biblioteker        0.02      1.00      0.03         2\n",
      "                                                                                                       Biografer       0.00      0.00      0.00         0\n",
      "                                                                                                   Blandet drift       0.02      0.15      0.03       150\n",
      "                                                                                            Blomsterforretninger       0.12      0.88      0.20        52\n",
      "                                                                           Bogbinding og lignende serviceydelser       0.00      0.00      0.00         0\n",
      "                                                                         Bogføring og revision: skatterådgivning       0.55      0.60      0.58      2249\n",
      "                                                                         Boliganvisning, ferieboligudlejning mv.       0.00      0.00      0.00         0\n",
      "                                                                                        Boligtekstilforretninger       0.00      0.00      0.00         0\n",
      "                                                                    Bortskaffelse af affald med energiproduktion       0.00      0.00      0.00         0\n",
      "                                                              Botaniske og zoologiske haver samt naturreservater       0.00      0.00      0.00         0\n",
      "                                                                                                      Brandvæsen       0.46      1.00      0.63        52\n",
      "                                             Brydning af pynte- og bygningssten, kalksten, gips, kridt og skifer       0.00      0.00      0.00         0\n",
      "                                                                   Bugserings-, bjærgnings- og redningsvæsen mv.       0.00      0.00      0.00         0\n",
      "                                                                              Byggemarkeder og værktøjsmagasiner       0.18      0.95      0.30        38\n",
      "                                                                             Bygning af både til fritid og sport       0.00      0.00      0.00         0\n",
      "                                                                           Bygning af skibe og flydende materiel       0.00      0.00      0.00         0\n",
      "                                                                                                      Børnehaver       0.47      0.85      0.61       306\n",
      "                                                                               Cafeér, værtshuse, diskoteker mv.       0.16      0.67      0.26       303\n",
      "                                                                                         Call centres virksomhed       0.00      0.00      0.00         0\n",
      "                                                                                                  Campingpladser       0.06      1.00      0.10         7\n",
      "                                                                                        Charter- og taxiflyvning       0.00      0.00      0.00         0\n",
      "                                                                                    Computer facility management       0.00      0.00      0.00         0\n",
      "                                                                                           Computerprogrammering       0.15      0.12      0.13      4268\n",
      "                                                                                  Cykel- og knallertforretninger       0.07      0.69      0.12        29\n",
      "                                                                                                   Dagcentre mv.       0.03      0.83      0.06         6\n",
      "                                                                                                   Dagplejemødre       0.08      0.90      0.15        10\n",
      "                                                           Databehandling, webhosting og lignende serviceydelser       0.00      0.00      0.00         0\n",
      "                                                          Demontering af udtjente køretøjer, skibe, maskiner mv.       0.00      0.00      0.00         0\n",
      "                                                              Destillation, rektifikation og blanding af alkohol       0.00      0.00      0.00         0\n",
      "                                                                          Detailhandel fra postordreforretninger       0.00      0.00      0.00         0\n",
      "                                                       Detailhandel med andre varer fra stadepladser og markeder       0.00      0.00      0.00         0\n",
      "                                                                             Detailhandel med andre varer i.a.n.       0.05      0.83      0.09        41\n",
      "                                                                Detailhandel med andre varer i.a.n. via internet       0.00      1.00      0.00         1\n",
      "                                                                           Detailhandel med aviser og papirvarer       0.00      0.00      0.00         0\n",
      "                                            Detailhandel med belysningsartikler samt husholdningsartikler i.a.n.       0.00      0.00      0.00         0\n",
      "                                                                    Detailhandel med brugte varer i forretninger       0.16      0.88      0.27       113\n",
      "                                                                Detailhandel med brød, konditori- og sukkervarer       0.02      0.70      0.05        10\n",
      "                                                                                          Detailhandel med bøger       0.04      1.00      0.08         6\n",
      "                                           Detailhandel med bøger, kontorartikler, musik eller film via internet       0.00      0.00      0.00         0\n",
      "                                                            Detailhandel med computere, ydre enheder og software       0.00      0.00      0.00         0\n",
      "                                                                       Detailhandel med dagligvarer via internet       0.00      0.00      0.00         0\n",
      "                                                                                    Detailhandel med drikkevarer       0.02      0.70      0.04        10\n",
      "                                                               Detailhandel med elektriske husholdningsapparater       0.00      0.00      0.00         0\n",
      "                           Detailhandel med elektroniske eller elektriske apparater samt fotoudstyr via internet       0.00      0.00      0.00         0\n",
      "                                     Detailhandel med føde-, drikke- og tobaksvarer fra stadepladser og markeder       0.00      0.00      0.00         0\n",
      "                   Detailhandel med hobbyartikler, musikinstrumenter, sportsudstyr, legetøj, cykler via internet       0.00      0.00      0.00         0\n",
      "                Detailhandel med husholdnings- eller boligudstyr, bortset fra elektriske apparater, via internet       0.00      0.00      0.00         0\n",
      "                                                              Detailhandel med kjolestoffer, garn, broderier mv.       0.04      1.00      0.07         7\n",
      "                                                 Detailhandel med kosmetikvarer og produkter til personlig pleje       0.25      1.00      0.40        84\n",
      "                                    Detailhandel med køkkenudstyr, glas, porcelæn, bestik, vaser, lysestager mv.       0.07      1.00      0.12        10\n",
      "                                          Detailhandel med medicin og produkter til personlig pleje via internet       0.00      0.00      0.00         0\n",
      "                                                             Detailhandel med medicinske og ortopædiske artikler       0.00      0.00      0.00         0\n",
      "                                                                      Detailhandel med musik- og videooptagelser       0.00      0.00      0.00         0\n",
      "                                                           Detailhandel med personbiler, varebiler og minibusser       0.16      0.64      0.25       256\n",
      "                                                     Detailhandel med reservedele og tilbehør til motorkøretøjer       0.05      1.00      0.09        10\n",
      "                                                                                Detailhandel med spil og legetøj       0.03      0.86      0.06         7\n",
      "                          Detailhandel med tekstiler, beklædningsartikler og fodtøj fra stadepladser og markeder       0.00      0.00      0.00         0\n",
      "                                                                       Detailhandel med telekommunikationsudstyr       0.20      0.97      0.33        31\n",
      "                                                         Detailhandel med tæpper, vægbeklædning og gulvbelægning       0.02      0.67      0.03         3\n",
      "                                       Detailhandel med tøj, sko, lædervarer, ure eller babyudstyr  via internet       0.00      0.00      0.00         0\n",
      "                                                             Detailhandel med ure, smykker og guld- og sølvvarer       0.09      0.82      0.16        40\n",
      "                                                             Detailhandel via Internettet med digitale produkter       0.00      0.00      0.00         0\n",
      "                                                                                            Discountforretninger       0.73      0.94      0.82       387\n",
      "                                                                                    Distribution af elektricitet       0.00      0.00      0.00         0\n",
      "                                                                   Distribution af film, video- og tv-programmer       0.00      0.00      0.00         0\n",
      "                                                                                             Distribution af gas       0.00      0.00      0.00         0\n",
      "                                                                                       Domstole og fængselsvæsen       0.00      0.00      0.00         0\n",
      "                                                                     Drift af betalingsveje, -broer og -tunneler       0.00      0.00      0.00         0\n",
      "                                                                                            Drift af sportsanlæg       0.06      0.64      0.11        36\n",
      "                                                                 Drift af teater- og koncertsale, kulturhuse mv.       0.00      0.00      0.00         0\n",
      "                                                                                                      Dyrehandel       0.02      1.00      0.03         3\n",
      "                                                                              Dyrkning af andre etårige afgrøder       0.00      0.00      0.00         8\n",
      "                                                                            Dyrkning af andre flerårige afgrøder       0.00      0.00      0.00         0\n",
      "                                                                     Dyrkning af andre træfrugter, bær og nødder       0.00      0.00      0.00         0\n",
      "                                                                                       Dyrkning af citrusfrugter       0.00      0.00      0.00         0\n",
      "                                                                                               Dyrkning af druer       0.00      0.00      0.00         0\n",
      "                                                          Dyrkning af grøntsager og meloner, rødder og rodknolde       0.01      1.00      0.01         2\n",
      "                                                                         Dyrkning af kernefrugter og stenfrugter       0.00      0.00      0.00         0\n",
      "                                                        Dyrkning af krydderiplanter, aromaplanter og lægeplanter       0.00      0.00      0.00         0\n",
      "                                                             Dyrkning af planter til fremstilling af drikkevarer       0.00      0.00      0.00         0\n",
      "                                                                     Dyrkning af tropiske og subtropiske frugter       0.00      0.00      0.00         0\n",
      "                                                                 Dyrkning af træer og andre skovbrugsaktiviteter       0.13      0.65      0.21       232\n",
      "                                                                                                        Dyrlæger       0.07      1.00      0.12        18\n",
      "                                                                                                      Dækservice       0.00      0.00      0.00         0\n",
      "                                                                              Døgninstitutioner for børn og unge       0.00      0.00      0.00         0\n",
      "                                                              Døgninstitutioner for personer med fysisk handicap       0.00      0.00      0.00         0\n",
      "                                                            Døgninstitutioner for personer med psykiske handicap       0.27      0.78      0.40       170\n",
      "                                                                                    Efterbehandling af tekstiler       0.00      0.00      0.00         0\n",
      "                                                                                             Ejendomsmæglere mv.       0.24      0.89      0.38       179\n",
      "                                                                                                  Ejerforeninger       0.72      0.94      0.81       802\n",
      "                                                                    Ekstraterritoriale organisationer og organer       0.00      0.00      0.00         0\n",
      "                                                                                                 El-installation       0.35      0.76      0.48       543\n",
      "                                                  Engros- og detailhandel med campingkøretøjer, små trailere mv.       0.00      0.00      0.00         0\n",
      "                                                       Engros- og detailhandel med lastbiler og påhængsvogne mv.       0.00      0.00      0.00         0\n",
      "                                                                               Engroshandel med affaldsprodukter       0.00      0.00      0.00         0\n",
      "                                                                     Engroshandel med andre husholdningsartikler       0.00      0.00      0.00         0\n",
      "                                                     Engroshandel med andre kontormaskiner og andet kontorudstyr       0.00      0.00      0.00         0\n",
      "                                                                 Engroshandel med andre maskiner og andet udstyr       0.01      0.38      0.02        21\n",
      "                                                                 Engroshandel med andre råvarer og halvfabrikata       0.00      0.00      0.00         0\n",
      "                                                                                     Engroshandel med beklædning       0.00      0.00      0.00         0\n",
      "                                                                            Engroshandel med blomster og planter       0.00      0.00      0.00         0\n",
      "                                                                     Engroshandel med bøger, papir og papirvarer       0.00      0.00      0.00         0\n",
      "                                                            Engroshandel med computere, ydre enheder og software       0.00      0.00      0.00         0\n",
      "                                                             Engroshandel med cykler, sportsartikler og lystbåde       0.00      0.00      0.00         0\n",
      "                                                                Engroshandel med elektriske husholdningsartikler       0.00      0.00      0.00         0\n",
      "                                                                             Engroshandel med elektronisk udstyr       0.00      0.00      0.00         0\n",
      "                                      Engroshandel med fast, flydende og luftformigt brændstof og lignende varer       0.00      0.00      0.00         0\n",
      "                                                                         Engroshandel med fisk og fiskeprodukter       0.01      0.50      0.01         2\n",
      "                                                                                         Engroshandel med fodtøj       0.00      0.00      0.00         0\n",
      "                                                               Engroshandel med fotografiske og optiske artikler       0.00      0.00      0.00         0\n",
      "                                                                            Engroshandel med frugt og grøntsager       0.26      1.00      0.41        34\n",
      "                                                                          Engroshandel med huder, skind og læder       0.00      0.00      0.00         0\n",
      "                                                                               Engroshandel med hårde hvidevarer       0.00      0.00      0.00         0\n",
      "                                                         Engroshandel med indspillede videoer, cd'er, dvd'er mv.       0.00      0.00      0.00         0\n",
      "                                                               Engroshandel med isenkram, varmeanlæg og tilbehør       0.07      1.00      0.12        15\n",
      "                                                                 Engroshandel med kaffe, te, kakao og krydderier       0.00      0.00      0.00         0\n",
      "                                                                              Engroshandel med kemiske produkter       0.00      0.00      0.00         0\n",
      "                                                                                   Engroshandel med kontormøbler       0.00      0.00      0.00         0\n",
      "                                                Engroshandel med korn, uforarbejdet tobak, såsæd og foderstoffer       0.07      0.93      0.13        15\n",
      "                                                                        Engroshandel med kufferter og lædervarer       0.00      0.00      0.00         0\n",
      "                                                                            Engroshandel med kød og kødprodukter       0.00      0.00      0.00         0\n",
      "                                                          Engroshandel med lak, maling, tapet, gulvbelægning mv.       0.00      0.00      0.00         0\n",
      "                                                  Engroshandel med landbrugsmaskiner, -udstyr og tilbehør hertil       0.00      0.00      0.00         0\n",
      "                                                                                    Engroshandel med levende dyr       0.00      0.00      0.00         0\n",
      "                                                                     Engroshandel med læge- og hospitalsartikler       0.00      0.00      0.00         0\n",
      "                                           Engroshandel med maskiner til minedrift og bygge- og anlægsvirksomhed       0.00      0.00      0.00         0\n",
      "                                             Engroshandel med maskiner, udstyr og tilbehør til tekstilindustrien       0.00      0.00      0.00         0\n",
      "                                                            Engroshandel med medicinalvarer og sygeplejeartikler       0.00      0.00      0.00         0\n",
      "                                        Engroshandel med mejeriprodukter, æg samt spiselige olier og fedtstoffer       0.00      0.00      0.00         0\n",
      "                                                                         Engroshandel med metaller og metalmalme       0.00      0.00      0.00         0\n",
      "                                                           Engroshandel med møbler, tæpper og belysningsartikler       0.00      0.00      0.00         0\n",
      "                                                                     Engroshandel med parfumerivarer og kosmetik       0.00      0.00      0.00         0\n",
      "                                                           Engroshandel med personbiler, varebiler og minibusser       0.00      0.00      0.00         0\n",
      "                                                                        Engroshandel med porcelæns- og glasvarer       0.00      0.00      0.00         0\n",
      "                                                                                Engroshandel med radio og tv mv.       0.00      0.00      0.00         0\n",
      "                                                                               Engroshandel med rengøringsmidler       0.00      0.00      0.00         0\n",
      "                                                     Engroshandel med reservedele og tilbehør til motorkøretøjer       0.07      1.00      0.12        16\n",
      "                                                               Engroshandel med sukker, chokolade og sukkervarer       0.00      0.00      0.00         0\n",
      "                                                                                      Engroshandel med tekstiler       0.00      0.00      0.00         0\n",
      "                                                                       Engroshandel med telekommunikationsudstyr       0.00      0.00      0.00         0\n",
      "                                                                                    Engroshandel med tobaksvarer       0.00      0.00      0.00         0\n",
      "                                                                Engroshandel med træ, trælast og byggematerialer       0.07      0.89      0.12        27\n",
      "                                                             Engroshandel med ure, smykker og guld- og sølvvarer       0.00      0.00      0.00         0\n",
      "                                                                                Engroshandel med vin og spiritus       0.02      0.86      0.03         7\n",
      "                                                                               Engroshandel med værktøjsmaskiner       0.00      0.00      0.00         0\n",
      "                                                       Engroshandel med øl, mineralvand, frugt- og grøntsagssaft       0.00      0.00      0.00         0\n",
      "                                                                         Erhvervs- og arbejdsgiverorganisationer       0.05      0.92      0.10        25\n",
      "                                                                              Erhvervs- og institutionsvaskerier       0.00      0.00      0.00         0\n",
      "                                                                                                   Erhvervshavne       0.00      0.00      0.00         0\n",
      "                                                                                                  Event catering       0.00      0.40      0.01         5\n",
      "                                                                                                   FVC-selskaber       0.00      0.00      0.00         0\n",
      "                                                                                                   Fagforeninger       0.03      1.00      0.05         8\n",
      "                                                                                        Faglige sammenslutninger       0.00      0.00      0.00         0\n",
      "                                                                                                    Familiepleje       0.00      0.00      0.00         0\n",
      "                                                                                     Farve- og tapetforretninger       0.19      0.95      0.32        22\n",
      "                                                                                Fastnetbaseret telekommunikation       0.00      0.00      0.00         0\n",
      "                                             Ferieboliger og andre indlogeringsfaciliteter til kortvarige ophold       0.01      0.50      0.03         6\n",
      "                                                                                                  Ferskvandsbrug       0.04      1.00      0.07         3\n",
      "                                                                                               Ferskvandsfiskeri       0.00      0.00      0.00         0\n",
      "                                                                                               Finansiel leasing       0.00      0.00      0.00         0\n",
      "                                                                                    Finansielle holdingselskaber       0.39      0.33      0.36      2178\n",
      "                                                                              Finansielle hovedsæders virksomhed       0.00      0.00      0.00         0\n",
      "                                                                                                  Fiskeauktioner       0.00      0.00      0.00         0\n",
      "                                                                                               Fiskeforretninger       0.00      0.00      0.00         0\n",
      "                                                                                                   Fitnesscentre       0.19      0.94      0.32        48\n",
      "                                                                                                      Fjerkræavl       0.00      0.00      0.00         0\n",
      "                                                                                       Flygtninge- og asylcentre       0.00      0.00      0.00         0\n",
      "                                                                                              Flytteforretninger       0.00      0.00      0.00         0\n",
      "                                                                                             Folkeskoler o.lign.       0.48      0.90      0.63       349\n",
      "                                                                            Forarbejdning af afgrøder efter høst       0.00      0.00      0.00         0\n",
      "                                                                                      Forarbejdning af andet kød       0.00      0.00      0.00         0\n",
      "                                                                         Forarbejdning af frø/sædekorn til udsæd       0.00      0.00      0.00         0\n",
      "                                                                                       Forarbejdning af svinekød       0.00      0.00      0.00         0\n",
      "                                                                                    Forarbejdning af te og kaffe       0.00      0.00      0.00         0\n",
      "                                   Forarbejdning og konservering af fisk, krebsdyr og bløddyr, undtagen fiskemel       0.00      0.00      0.00         0\n",
      "                                                                     Forarbejdning og konservering af fjerkrækød       0.00      0.00      0.00         0\n",
      "                                                                      Forarbejdning og konservering af kartofler       0.00      0.00      0.00         0\n",
      "                                                                       Forbehandling og spinding af tekstilfibre       0.00      0.00      0.00         0\n",
      "                                                                                 Forberedende byggepladsarbejder       0.00      0.00      0.00         0\n",
      "                                Foreninger, legater og fonde med sygdomsbekæmpende, sociale og velgørende formål       0.85      0.29      0.44      7880\n",
      "                                                                       Forhandlere af gaveartikler og brugskunst       0.06      0.86      0.11        35\n",
      "                                                                        Forhandlere af lystbåde og udstyr hertil       0.00      0.00      0.00         0\n",
      "                                                                                Forhandlere af musikinstrumenter       0.00      0.00      0.00         0\n",
      "                                                                         Forhandlere af sports- og campingudstyr       0.12      0.78      0.21        68\n",
      "                                                                                         Forlystelsesparker o.l.       0.00      0.00      0.00         0\n",
      "                                                                           Formning og forarbejdning af planglas       0.00      0.00      0.00         0\n",
      "                                                                                               Formueforvaltning       0.00      0.00      0.00         0\n",
      "                                                           Forsikringsagenters og forsikringsmægleres virksomhed       0.03      1.00      0.06         6\n",
      "                    Forskning og eksperimentel udvikling inden for samfundsvidenskab og humanistiske videnskaber       0.00      0.00      0.00         0\n",
      "                                                      Forskning og eksperimentel udvikling indenfor bioteknologi       0.00      0.00      0.00         0\n",
      "                                                                                                         Forsvar       0.06      1.00      0.12         7\n",
      "                                                                                  Forvaltning af kapitalmarkeder       0.00      0.00      0.00         0\n",
      "                                                                                                Fotoforretninger       0.00      0.00      0.00         0\n",
      "                                                                                          Fotografisk virksomhed       0.37      0.88      0.52       608\n",
      "                                          Fotokopiering, dokumentbehandling og anden specialiseret kontorservice       0.00      0.00      0.00         0\n",
      "                                                                                       Fremstilling af aluminium       0.00      0.00      0.00         0\n",
      "                                                                            Fremstilling af anden yderbeklædning       0.00      0.00      0.00         0\n",
      "                                                                          Fremstilling af andet elektrisk udstyr       0.00      0.00      0.00         0\n",
      "                                                         Fremstilling af andre beklædningsartikler samt tilbehør       0.00      0.00      0.00         0\n",
      "                                                          Fremstilling af andre beton-, gips- og cementprodukter       0.00      0.00      0.00         0\n",
      "                                                       Fremstilling af andre dele og tilbehør til motorkøretøjer       0.00      0.00      0.00         0\n",
      "                                            Fremstilling af andre elektroniske og elektriske ledninger og kabler       0.00      0.00      0.00         0\n",
      "                                                             Fremstilling af andre færdige metalprodukter i.a.n.       0.00      0.00      0.00         0\n",
      "                                                                          Fremstilling af andre fødevarer i.a.n.       0.00      0.00      0.00         0\n",
      "                                                                            Fremstilling af andre gummiprodukter       0.00      0.00      0.00         0\n",
      "                                                                         Fremstilling af andre haner og ventiler       0.00      0.00      0.00         0\n",
      "                                                      Fremstilling af andre ikke-destillerede gærede drikkevarer       0.00      0.00      0.00         0\n",
      "                                             Fremstilling af andre ikke-metalholdige mineralske produkter i.a.n.       0.00      0.00      0.00         0\n",
      "                                                                  Fremstilling af andre kemiske produkter i.a.n.       0.00      0.00      0.00         0\n",
      "                                                                       Fremstilling af andre keramiske produkter       0.00      0.00      0.00         0\n",
      "                                                      Fremstilling af andre keramiske produkter til teknisk brug       0.00      0.00      0.00         0\n",
      "                                                      Fremstilling af andre maskiner til generelle formål i.a.n.       0.00      0.00      0.00         0\n",
      "                                                                                    Fremstilling af andre møbler       0.00      0.00      0.00         0\n",
      "                                                                 Fremstilling af andre organiske basiskemikalier       0.00      0.00      0.00         0\n",
      "                                                                        Fremstilling af andre papir- og papvarer       0.00      0.00      0.00         0\n",
      "                                                                            Fremstilling af andre plastprodukter       0.00      0.00      0.00         0\n",
      "                                                                    Fremstilling af andre pumper og kompressorer       0.00      0.00      0.00         0\n",
      "                                                  Fremstilling af andre strikkede og hæklede beklædningsartikler       0.00      0.00      0.00         0\n",
      "                                                               Fremstilling af andre tanke og beholdere af metal       0.00      0.00      0.00         0\n",
      "                                                        Fremstilling af andre tekniske og industrielle tekstiler       0.00      0.00      0.00         0\n",
      "                                                                          Fremstilling af andre tekstiler i.a.n.       0.00      0.00      0.00         0\n",
      "                                                                    Fremstilling af andre transportmidler i.a.n.       0.00      0.00      0.00         0\n",
      "                     Fremstilling af andre træprodukter: fremstilling af varer af kork, strå og flettematerialer       0.00      0.00      0.00         0\n",
      "                                                                Fremstilling af andre uorganiske basiskemikalier       0.00      0.00      0.00         0\n",
      "                                                                          Fremstilling af andre værktøjsmaskiner       0.00      0.00      0.00         0\n",
      "                                                                               Fremstilling af arbejdsbeklædning       0.00      0.00      0.00         0\n",
      "                                                                                Fremstilling af asfalt og tagpap       0.00      0.00      0.00         0\n",
      "                                                                      Fremstilling af batterier og akkumulatorer       0.00      0.00      0.00         0\n",
      "                                                                    Fremstilling af beklædningsartikler af læder       0.00      0.00      0.00         0\n",
      "                                                               Fremstilling af bestik, skære- og klipperedskaber       0.00      0.00      0.00         0\n",
      "                              Fremstilling af bestrålingsudstyr og elektromedicinsk og elektroterapeutisk udstyr       0.00      0.00      0.00         0\n",
      "                                                                     Fremstilling af bijouteri og lignende varer       0.00      0.00      0.00         0\n",
      "                                                                                Fremstilling af bly, zink og tin       0.00      0.00      0.00         0\n",
      "                                                                                  Fremstilling af boligtekstiler       0.00      0.00      0.00         0\n",
      "                                                                        Fremstilling af byggematerialer af beton       0.00      0.00      0.00         0\n",
      "                                                                         Fremstilling af byggematerialer af gips       0.00      0.00      0.00         0\n",
      "                                                                       Fremstilling af bygningsartikler af plast       0.00      0.00      0.00         0\n",
      "                                                     Fremstilling af bygningstømmer og snedkeriartikler i øvrigt       0.00      0.00      0.00         0\n",
      "                                                    Fremstilling af bølgepap og pap og emballage af papir og pap       0.00      0.00      0.00         0\n",
      "                                                                                          Fremstilling af cement       0.00      0.00      0.00         0\n",
      "                                                                         Fremstilling af cider og anden frugtvin       0.00      0.00      0.00         0\n",
      "                                                                       Fremstilling af computere og ydre enheder       0.00      0.00      0.00         0\n",
      "                                                                     Fremstilling af cykler og invalidekøretøjer       0.00      0.00      0.00         0\n",
      "                                                          Fremstilling af dampkedler undtagen centralvarmekedler       0.00      0.00      0.00         0\n",
      "                                                                        Fremstilling af døre og vinduer af metal       0.00      0.00      0.00         0\n",
      "                                              Fremstilling af elektrisk og elektronisk udstyr til motorkøretøjer       0.00      0.00      0.00         0\n",
      "                                                                   Fremstilling af elektriske belysningsartikler       0.00      0.00      0.00         0\n",
      "                                                      Fremstilling af elektriske fordelings- og kontrolapparater       0.00      0.00      0.00         0\n",
      "                                                                Fremstilling af elektriske husholdningsapparater       0.00      0.00      0.00         0\n",
      "                                                 Fremstilling af elektriske motorer, generatorer og transformere       0.00      0.00      0.00         0\n",
      "                                                                    Fremstilling af elektronik til husholdninger       0.00      0.00      0.00         0\n",
      "                                                              Fremstilling af elektroniske komponenter og plader       0.00      0.00      0.00         0\n",
      "                                                                        Fremstilling af farmaceutiske præparater       0.00      0.00      0.00         0\n",
      "                                                                           Fremstilling af farmaceutiske råvarer       0.00      0.00      0.00         0\n",
      "                                                                       Fremstilling af farvestoffer og pigmenter       0.00      0.00      0.00         0\n",
      "                                                                                     Fremstilling af fibercement       0.00      0.00      0.00         0\n",
      "                                      Fremstilling af fiberdug og varer af fiberdug undtagen beklædningsartikler       0.00      0.00      0.00         0\n",
      "                                                               Fremstilling af finerplader og træbaserede plader       0.00      0.00      0.00         0\n",
      "                                                                                        Fremstilling af fiskemel       0.00      0.00      0.00         0\n",
      "                                                                         Fremstilling af flasker, drikkeglas mv.       0.00      0.00      0.00         0\n",
      "                                                                                          Fremstilling af fodtøj       0.00      0.00      0.00         0\n",
      "                                                                          Fremstilling af friske bageriprodukter       0.05      0.88      0.10        17\n",
      "                                                                         Fremstilling af frugt- og grøntsagssaft       0.00      0.00      0.00         0\n",
      "                                                                             Fremstilling af færdigblandet beton       0.00      0.00      0.00         0\n",
      "                                                             Fremstilling af færdige foderblandinger til kæledyr       0.00      0.00      0.00         0\n",
      "                                                        Fremstilling af færdige foderblandinger til landbrugsdyr       0.00      0.00      0.00         0\n",
      "                             Fremstilling af færdige tekstilvarer undtagen boligtekstiler og beklædningsartikler       0.00      0.00      0.00         0\n",
      "                                                                                    Fremstilling af færdigretter       0.00      0.00      0.00         0\n",
      "                                                                                             Fremstilling af gas       0.00      0.00      0.00         0\n",
      "                                                                                       Fremstilling af glasfiber       0.00      0.00      0.00         0\n",
      "                                                  Fremstilling af gummidæk og gummislanger: vulkanisering af dæk       0.00      0.00      0.00         0\n",
      "                                                            Fremstilling af gødningsstoffer og nitrogenprodukter       0.00      0.00      0.00         0\n",
      "                                                             Fremstilling af homogeniserede produkter og diætmad       0.00      0.00      0.00         0\n",
      "                    Fremstilling af husholdningsartikler og hygiejneartikler samt toiletartikler af papir og pap       0.00      0.00      0.00         0\n",
      "                                                                               Fremstilling af hydraulisk udstyr       0.00      0.00      0.00         0\n",
      "                                                                                     Fremstilling af håndværktøj       0.00      0.00      0.00         0\n",
      "                                                                    Fremstilling af høreapparater og dele hertil       0.00      0.00      0.00         0\n",
      "                                                           Fremstilling af ikke-elektriske husholdningsapparater       0.00      0.00      0.00         0\n",
      "                                                                              Fremstilling af ildfaste produkter       0.00      0.00      0.00         0\n",
      "                                                                                  Fremstilling af industrigasser       0.00      0.00      0.00         0\n",
      "                                                                 Fremstilling af kakao, chokolade og sukkervarer       0.00      0.00      0.00         0\n",
      "                                                                                    Fremstilling af kalk og gips       0.00      0.00      0.00         0\n",
      "                      Fremstilling af karosserier til motorkøretøjer: fremstilling af påhængsvogne og sættevogne       0.00      0.00      0.00         0\n",
      "                                                                                       Fremstilling af kemofibre       0.00      0.00      0.00         0\n",
      "                                                Fremstilling af keramiske husholdningsartikler og pyntegenstande       0.00      0.00      0.00         0\n",
      "                                                          Fremstilling af keramiske isolatorer og isoleringsdele       0.00      0.00      0.00         0\n",
      "                                                                      Fremstilling af keramiske sanitetsartikler       0.00      0.00      0.00         0\n",
      "                                                                                          Fremstilling af kobber       0.00      0.00      0.00         0\n",
      "                                                                            Fremstilling af kommunikationsudstyr       0.00      0.00      0.00         0\n",
      "                                                                                        Fremstilling af konsumis       0.00      0.00      0.00         0\n",
      "                                                                         Fremstilling af kontor- og butiksmøbler       0.00      0.00      0.00         0\n",
      "                                                                         Fremstilling af kontorartikler af papir       0.00      0.00      0.00         0\n",
      "                                                                                Fremstilling af koste og børster       0.00      0.00      0.00         0\n",
      "                                                                                    Fremstilling af køkkenmøbler       0.00      0.00      0.00         0\n",
      "                                                Fremstilling af køle- og ventilationsanlæg (til industriel brug)       0.00      0.00      0.00         0\n",
      "                                                                 Fremstilling af landbrugs- og skovbrugsmaskiner       0.00      0.00      0.00         0\n",
      "                                         Fremstilling af lejer, tandhjul, tandhjulsudvekslinger og drivelementer       0.00      0.00      0.00         0\n",
      "                                                                               Fremstilling af letmetalemballage       0.00      0.00      0.00         0\n",
      "                                Fremstilling af lokomotiver og andet rullende materiel til jernbaner og sporveje       0.00      0.00      0.00         0\n",
      "                                                                       Fremstilling af luft- og rumfartøjer o.l.       0.00      0.00      0.00         0\n",
      "                                                    Fremstilling af lukkeanordninger, bolte, skruer og møtrikker       0.00      0.00      0.00         0\n",
      "                                                                                  Fremstilling af lyslederkabler       0.00      0.00      0.00         0\n",
      "                                                                                Fremstilling af låse og hængsler       0.00      0.00      0.00         0\n",
      "                                Fremstilling af læskedrikke: fremstilling af mineralvand og andet vand på flaske       0.00      0.00      0.00         0\n",
      "                                                                     Fremstilling af løfte- og håndteringsudstyr       0.00      0.00      0.00         0\n",
      "                                                                                       Fremstilling af madrasser       0.00      0.00      0.00         0\n",
      "                                                 Fremstilling af makaroni, nudler, couscous og lignende dejvarer       0.00      0.00      0.00         0\n",
      "          Fremstilling af maling, lak og lignende overfladebehandlingsmidler, trykfarver samt tætningsmaterialer       0.00      0.00      0.00         0\n",
      "                                                                                            Fremstilling af malt       0.00      0.00      0.00         0\n",
      "                                                            Fremstilling af margarine o.l. spiselige fedtstoffer       0.00      0.00      0.00         0\n",
      "                                             Fremstilling af maskiner til føde-, drikke- og tobaksvareindustrien       0.00      0.00      0.00         0\n",
      "                                                                         Fremstilling af maskiner til metallurgi       0.00      0.00      0.00         0\n",
      "                                                         Fremstilling af maskiner til produktion af papir og pap       0.00      0.00      0.00         0\n",
      "                                                       Fremstilling af maskiner til produktion af plast og gummi       0.00      0.00      0.00         0\n",
      "                              Fremstilling af maskiner til produktion af tekstiler, beklædningsartikler og læder       0.00      0.00      0.00         0\n",
      "                                    Fremstilling af maskiner til råstofindvindingsindustrien samt bygge og anlæg       0.00      0.00      0.00         0\n",
      "                                           Fremstilling af medicinske og dentale instrumenter samt udstyr hertil       0.01      1.00      0.03         3\n",
      "                                                             Fremstilling af metalforarbejdende værktøjsmaskiner       0.00      0.00      0.00         0\n",
      "                                                               Fremstilling af metalkonstruktioner og dele heraf       0.00      0.00      0.00         0\n",
      "                                                               Fremstilling af metaltønder og lignende beholdere       0.00      0.00      0.00         0\n",
      "                                                                                     Fremstilling af motorcykler       0.00      0.00      0.00         0\n",
      "                                                                         Fremstilling af motordrevet håndværktøj       0.00      0.00      0.00         0\n",
      "Fremstilling af motorer og turbiner undtagen motorer til vindmøller, flyvemaskiner, motorkøretøjer og knallerter       0.00      0.00      0.00         0\n",
      "                                                                                  Fremstilling af motorkøretøjer       0.00      0.00      0.00         0\n",
      "                                              Fremstilling af mursten, teglsten og byggematerialer af brændt ler       0.00      0.00      0.00         0\n",
      "                                                                               Fremstilling af musikinstrumenter       0.00      0.00      0.00         0\n",
      "                                                                                Fremstilling af mølleriprodukter       0.00      0.00      0.00         0\n",
      "                                                                                          Fremstilling af mørtel       0.00      0.00      0.00         0\n",
      "                                                                            Fremstilling af olier og fedtstoffer       0.00      0.00      0.00         0\n",
      "                                                      Fremstilling af optiske instrumenter og fotografisk udstyr       0.00      0.00      0.00         0\n",
      "                                                            Fremstilling af ovne, ildsteder og fyringsaggregater       0.00      0.00      0.00         0\n",
      "                                                                                    Fremstilling af papir og pap       0.00      0.00      0.00         0\n",
      "                                                                                      Fremstilling af papirmasse       0.00      0.00      0.00         0\n",
      "                                                              Fremstilling af parfume, hårshampoo, tandpasta mv.       0.00      0.00      0.00         0\n",
      "                                                       Fremstilling af pesticider og andre agrokemiske produkter       0.00      0.00      0.00         0\n",
      "                                              Fremstilling af plader, ark, rør og slanger samt profiler af plast       0.00      0.00      0.00         0\n",
      "                                                                        Fremstilling af plast i ubearbejdet form       0.00      0.00      0.00         0\n",
      "                                                                                  Fremstilling af plastemballage       0.00      0.00      0.00         0\n",
      "                                                                                Fremstilling af printplader o.l.       0.00      0.00      0.00         0\n",
      "                                                      Fremstilling af radiatorer og kedler til centralvarmeanlæg       0.00      0.00      0.00         0\n",
      "                                                                Fremstilling af raffinerede mineralolieprodukter       0.00      0.00      0.00         0\n",
      "                                                            Fremstilling af reb, tovværk, sejlgarn og netstoffer       0.00      0.00      0.00         0\n",
      "                                                            Fremstilling af råjern og råstål samt jernlegeringer       0.00      0.00      0.00         0\n",
      "                                             Fremstilling af rør og hule profiler og tilhørende fittings af stål       0.00      0.00      0.00         0\n",
      "                                                                         Fremstilling af sammensatte parketstave       0.00      0.00      0.00         0\n",
      "                                                                                     Fremstilling af slibemidler       0.00      0.00      0.00         0\n",
      "                                                                   Fremstilling af smagspræparater og krydderier       0.00      0.00      0.00         0\n",
      "                                                 Fremstilling af smykker i ædle metaller og relaterede produkter       0.01      0.50      0.02         6\n",
      "                                                                                 Fremstilling af spil og legetøj       0.00      0.00      0.00         0\n",
      "                                                                                    Fremstilling af sportsudstyr       0.00      0.00      0.00         0\n",
      "                                                                                   Fremstilling af sprængstoffer       0.00      0.00      0.00         0\n",
      "                                                                  Fremstilling af stivelse og stivelsesprodukter       0.00      0.00      0.00         0\n",
      "                                                               Fremstilling af strikkede og hæklede strømpevarer       0.00      0.00      0.00         0\n",
      "                                                                                          Fremstilling af sukker       0.00      0.00      0.00         0\n",
      "                                              Fremstilling af sæbe, rengørings- og rensemidler samt poleremidler       0.00      0.00      0.00         0\n",
      "                                                                                           Fremstilling af tapet       0.00      0.00      0.00         0\n",
      "                                                          Fremstilling af tasker, kufferter, sadelmagervarer mv.       0.00      0.00      0.00         0\n",
      "                                                                Fremstilling af tilbehør til ledninger og kabler       0.00      0.00      0.00         0\n",
      "                                                                                 Fremstilling af tobaksprodukter       0.00      0.00      0.00         0\n",
      "                                                                                Fremstilling af trikotagestoffer       0.00      0.00      0.00         0\n",
      "                                                                      Fremstilling af trådvarer, kæder og fjedre       0.00      0.00      0.00         0\n",
      "                                                                                    Fremstilling af træemballage       0.00      0.00      0.00         0\n",
      "                               Fremstilling af tvebakker og kiks: fremstilling af konserverede kager, tærter mv.       0.00      0.00      0.00         0\n",
      "                                                                                          Fremstilling af tæpper       0.00      0.00      0.00         0\n",
      "                                            Fremstilling af udstyr til måling, afprøvning, navigation og kontrol       0.00      0.00      0.00         0\n",
      "                                                                                 Fremstilling af underbeklædning       0.00      0.00      0.00         0\n",
      "                                                                                             Fremstilling af ure       0.00      0.00      0.00         0\n",
      "                                                                              Fremstilling af varer af pelsskind       0.00      0.00      0.00         0\n",
      "                                                                                    Fremstilling af vin af druer       0.00      0.00      0.00         0\n",
      "                                                                       Fremstilling af vindmøller og dele hertil       0.00      0.00      0.00         0\n",
      "                                                                             Fremstilling af våben og ammunition       0.00      0.00      0.00         0\n",
      "                                                                                    Fremstilling af ædelmetaller       0.00      0.00      0.00         0\n",
      "                                                                                  Fremstilling af æteriske olier       0.00      0.00      0.00         0\n",
      "                                                                                              Fremstilling af øl       0.00      0.00      0.00         0\n",
      "                                                     Fremstilling af øvrige maskiner til specielle formål i.a.n.       0.00      0.00      0.00         0\n",
      "                                              Fremstilling og bearbejdning af andet glas (herunder teknisk glas)       0.00      0.00      0.00         0\n",
      "                                                                                                   Frisørsaloner       0.75      0.42      0.54      4454\n",
      "                                                                                      Fritids- og ungdomsklubber       0.16      0.80      0.26        41\n",
      "                                                                                     Frugt- og grøntforretninger       0.03      0.75      0.05         4\n",
      "                                                                                         Funderingsundersøgelser       0.00      0.00      0.00         0\n",
      "                                                                                        Fysio- og ergoterapeuter       0.52      0.93      0.67       758\n",
      "                                                                                            Førskoleundervisning       0.00      0.00      0.00         0\n",
      "                                              Garvning og beredning af læder: beredning og farvning af pelsskind       0.00      0.00      0.00         0\n",
      "                                                                                 Genbrug af sorterede materialer       0.00      0.00      0.00         0\n",
      "                                                                                  Generelle offentlige tjenester       0.00      1.00      0.01         1\n",
      "                                                                                                   Genforsikring       0.00      0.00      0.00         0\n",
      "                                                                                 Gennemførelse af byggeprojekter       0.00      1.00      0.00         1\n",
      "                                                                                      Gennemløbsholdingselskaber       0.00      0.00      0.00         0\n",
      "                                                  Geologiske undersøgelser og prospektering, landinspektører mv.       0.03      1.00      0.06         3\n",
      "                                                                                            Glarmestervirksomhed       0.00      0.00      0.00         0\n",
      "                                                                                                  Godshåndtering       0.00      0.00      0.00         0\n",
      "                                                                                           Godstransport med tog       0.00      0.00      0.00         0\n",
      "                                                              Grus- og sandgravning: indvinding af ler og kaolin       0.00      0.00      0.00         0\n",
      "                                                                              Gymnasier, studenter- og HF-kurser       0.00      0.00      0.00         0\n",
      "                                                                                         Handel med elektricitet       0.00      0.00      0.00         0\n",
      "                                                                              Handel med gas gennem rørledninger       0.00      0.00      0.00         0\n",
      "                                                                                                         Havbrug       0.00      0.00      0.00         0\n",
      "                                                                                                      Havfiskeri       0.03      0.75      0.05        16\n",
      "                                                     Historiske monumenter og bygninger og lignende attraktioner       0.00      0.00      0.00         0\n",
      "                                                                                                     Hjemmehjælp       0.11      0.94      0.20        33\n",
      "                                                                  Hjælpeaktiviteter i forbindelse med scenekunst       0.00      0.00      0.00         0\n",
      "                                                                    Hjælpeydelser i forbindelse med undervisning       0.00      0.00      0.00         0\n",
      "                                                                                                      Hospitaler       0.00      0.00      0.00         0\n",
      "                                                                                                        Hoteller       0.03      0.79      0.06        14\n",
      "                                                                                Husholdninger med ansat medhjælp       0.00      0.00      0.00         0\n",
      "                                                                         Ikke-finansielle hovedsæders virksomhed       0.00      0.00      0.00         0\n",
      "                                                                                 Ikke-specialiseret engroshandel       0.01      0.12      0.02        89\n",
      "                                               Ikke-specialiseret engroshandel med føde-, drikke- og tobaksvarer       0.00      0.00      0.00         0\n",
      "                                                                              Indretningsarkitekter og rumdesign       0.00      0.00      0.00         0\n",
      "                                                                                    Indsamling af farligt affald       0.00      0.00      0.00         0\n",
      "                                                                               Indsamling af ikke-farligt affald       0.04      1.00      0.08         6\n",
      "                                                       Indsamling af vildtvoksende forstmateriale undtagen træer       0.00      0.00      0.00         0\n",
      "                                                              Indspilning af lydoptagelser og udgivelse af musik       0.09      0.63      0.16        90\n",
      "                                                                              Industriel design og produktdesign       0.00      0.24      0.01        21\n",
      "                                                                      Industriel fremstilling af brød: kager mv.       0.00      0.00      0.00         0\n",
      "                                                                                          Indvinding af naturgas       0.00      0.00      0.00         0\n",
      "                                                                                            Indvinding af råolie       0.00      0.00      0.00         0\n",
      "                                                                             Indvinding og agglomerering af tørv       0.00      0.00      0.00         0\n",
      "                                                                            Inkassovirksomhed og kreditoplysning       0.00      0.00      0.00         0\n",
      "                                                                     Installation af industrimaskiner og -udstyr       0.00      0.00      0.00         0\n",
      "                                                                         Institutionsophold med sygepleje i.a.n.       0.00      0.00      0.00         0\n",
      "                                                                                          Investeringsforeninger       0.00      0.00      0.00         0\n",
      "                                                                                           Investeringsselskaber       0.31      0.27      0.29      2217\n",
      "                                                        Jagt, fældefangst og serviceydelser i forbindelse hermed       0.00      0.00      0.00         0\n",
      "                                                                                                Juridisk bistand       0.53      0.98      0.69       492\n",
      "                                                                           Karosseriværksteder og autolakererier       0.00      1.00      0.01         1\n",
      "                                                                                                        Kenneler       0.00      0.00      0.00         0\n",
      "                                                                                                   Kiropraktorer       0.01      1.00      0.02         1\n",
      "                                                                                                  Koldbehandling       0.00      0.00      0.00         0\n",
      "                                                                       Kombinerede administrationsserviceydelser       0.00      1.00      0.00         1\n",
      "                                                                                      Kombinerede serviceydelser       0.11      0.37      0.17       472\n",
      "                                                                          Kommunikationsdesign og grafisk design       0.16      0.38      0.22       638\n",
      "                                                                             Konferencecentre og kursusejendomme       0.00      0.00      0.00         0\n",
      "                                                               Konsulentbistand vedrørende informationsteknologi       0.74      0.06      0.11     48774\n",
      "                                                                                        Kontrol af levnedsmidler       0.00      0.00      0.00         0\n",
      "                                                                                Kunsthandel og gallerivirksomhed       0.00      0.00      0.00         0\n",
      "                                                                                              Kunstnerisk skaben       0.09      0.31      0.14       495\n",
      "                                                                                Køb og salg af egen fast ejendom       0.04      0.55      0.07        95\n",
      "                                                                                          Købmænd og døgnkiosker       0.39      0.68      0.50       435\n",
      "                                                                                                      Køreskoler       0.30      0.97      0.45       183\n",
      "                                                                                            Landbrugskonsulenter       0.00      0.00      0.00         0\n",
      "                                                                                                  Landskabspleje       0.17      0.76      0.28       247\n",
      "                 Leasing af intellektuelle ejendomsrettigheder og lignende, dog ikke ophavsretsbeskyttede værker       0.00      0.00      0.00         0\n",
      "                                                                                                  Livsforsikring       0.00      0.00      0.00         0\n",
      "                                                                              Lotteri- og anden spillevirksomhed       0.00      0.00      0.00         0\n",
      "                                                                                    Lovpligtig socialsikring mv.       0.00      0.00      0.00         0\n",
      "                                                                                           Lufttransport af gods       0.00      0.00      0.00         0\n",
      "                                                                                                   Lystbådehavne       0.00      0.00      0.00         0\n",
      "                                                                                           Lædervareforretninger       0.13      1.00      0.23         8\n",
      "                                                                                               Malerforretninger       0.59      0.92      0.72       848\n",
      "                                                                       Markedsanalyse og offentlig meningsmåling       0.00      0.00      0.00         0\n",
      "                                                                                             Maskinforarbejdning       0.02      0.36      0.04        25\n",
      "                                                                                  Mejerier samt ostefremstilling       0.00      0.00      0.00         0\n",
      "                                                                                                          Murere       0.48      0.92      0.63       726\n",
      "                                                                                                          Museer       0.01      1.00      0.01         1\n",
      "                                                                                               Møbelforretninger       0.05      0.93      0.09        15\n",
      "                                                                                                      Nedrivning       0.00      0.00      0.00         0\n",
      "                                                                                          Opførelse af bygninger       0.01      0.24      0.03        76\n",
      "                                                                                 Oplagrings- og pakhusvirksomhed       0.00      0.00      0.00         0\n",
      "                                                                           Opsamling og behandling af spildevand       0.02      1.00      0.04         4\n",
      "                                                                  Opstilling og levering af færdige fabriksanlæg       0.00      0.00      0.00         0\n",
      "                                                                                                        Optikere       0.31      1.00      0.48        85\n",
      "                                                              Organisering af kongresser, messer og udstillinger       0.00      0.00      0.00         0\n",
      "                                                                                    Overfladebehandling af metal       0.00      0.00      0.00         0\n",
      "                                                                                        Oversættelse og tolkning       0.16      0.98      0.27       130\n",
      "                                                                                                     Overvågning       0.00      0.00      0.00         0\n",
      "                                                                                                       Pakkerier       0.00      0.00      0.00         0\n",
      "                                                                                       Parkering og vejhjælp mv.       0.00      0.00      0.00         0\n",
      "                                                                  Passagertransport med regional- eller fjerntog       0.00      0.00      0.00         0\n",
      "                                                                                                  Pensionskasser       0.00      0.00      0.00         0\n",
      "                                                                             Pizzeriaer, grillbarer, isbarer mv.       0.45      0.64      0.53      1147\n",
      "                                                                                 Planteforhandlere og havecentre       0.00      0.00      0.00         0\n",
      "                                                                                                 Planteformering       0.00      0.00      0.00         0\n",
      "                                                                                                       Plejehjem       0.28      0.89      0.43       110\n",
      "                                                                                                          Politi       0.32      1.00      0.48        19\n",
      "                                                                                               Politiske partier       0.00      0.00      0.00         0\n",
      "                                                                     Posttjenester omfattet af forsyningspligten       0.00      0.00      0.00         0\n",
      "                                                                                      Praktiserende speciallæger       0.25      0.90      0.39       285\n",
      "                                                                                         Praktiserende tandlæger       0.68      0.93      0.78       710\n",
      "                                                                                   Prepress- og premedia-arbejde       0.00      0.00      0.00         0\n",
      "                                                                                                  Pressebureauer       0.00      0.00      0.00         0\n",
      "                                                                                   Private andelsboligforeninger       0.98      0.60      0.74      4523\n",
      "                                      Private husholdningers produktion af tjenesteydelser til eget brug, i.a.n.       0.00      0.00      0.00         0\n",
      "                                                Private husholdningers produktion af varer til eget brug, i.a.n.       0.00      0.00      0.00         0\n",
      "                                                                            Private vagt- og sikkerhedstjenester       0.01      1.00      0.01         1\n",
      "                                                                                      Produktion af elektricitet       0.35      0.73      0.48       428\n",
      "                                                                                 Produktion af film og videofilm       0.23      0.60      0.33       385\n",
      "                                                                       Produktion af kød- og fjerkrækødprodukter       0.00      0.00      0.00         0\n",
      "                                                                                        Produktion af slagtesvin       0.00      1.00      0.01         2\n",
      "                                                                                     Produktion af tv-programmer       0.00      0.00      0.00         0\n",
      "                                                                                          Psykologisk rådgivning       0.48      0.82      0.61       989\n",
      "                                                                               Public relations og kommunikation       0.09      0.54      0.16       198\n",
      "                                                                                       Radio- og tv-forretninger       0.01      0.33      0.02         3\n",
      "                                                                                                 Radiovirksomhed       0.00      0.00      0.00         0\n",
      "                                                                                           Realkreditinstitutter       0.00      0.00      0.00         0\n",
      "                                                                                                 Rejsearrangører       0.00      0.00      0.00         0\n",
      "                                                                                                   Rejsebureauer       0.01      0.50      0.01         2\n",
      "                                                                                                 Reklamebureauer       0.06      0.46      0.10       200\n",
      "                                                                                           Reklameplads i medier       0.00      0.00      0.00         0\n",
      "                                                                           Religiøse institutioner og foreninger       0.91      0.80      0.85      1867\n",
      "                                                                          Renserier, selvbetjeningsvaskerier mv.       0.00      0.00      0.00         0\n",
      "                                           Rensning af jord og grundvand og anden form for forureningsbekæmpelse       0.00      0.00      0.00         0\n",
      "                                                                                      Reparation af andet udstyr       0.00      0.00      0.00         0\n",
      "                                               Reparation af andre varer til personligt brug og husholdningsbrug       0.00      0.00      0.00         0\n",
      "                                                                         Reparation af computere og ydre enheder       0.00      0.00      0.00         0\n",
      "                                                                                  Reparation af elektrisk udstyr       0.00      0.00      0.00         0\n",
      "                                                                      Reparation af elektronisk og optisk udstyr       0.00      0.00      0.00         0\n",
      "                                                                               Reparation af forbrugerelektronik       0.00      0.00      0.00         0\n",
      "                                                Reparation af husholdningsapparater og redskaber til hus og have       0.00      0.00      0.00         0\n",
      "                                                                               Reparation af jern- og metalvarer       0.00      0.00      0.00         0\n",
      "                                                                              Reparation af kommunikationsudstyr       0.00      0.00      0.00         0\n",
      "                                                                                          Reparation af maskiner       0.01      0.43      0.01         7\n",
      "                                                                             Reparation af møbler og boligudstyr       0.00      0.00      0.00         0\n",
      "                                                                              Reparation af skotøj og lædervarer       0.00      0.00      0.00         0\n",
      "                                                                Reparation af ure, smykker og guld- og sølvvarer       0.00      0.00      0.00         0\n",
      "                                                          Reparation og vedligeholdelse af andre transportmidler       0.00      0.00      0.00         0\n",
      "                                                           Reparation og vedligeholdelse af luft- og rumfartøjer       0.00      0.00      0.00         0\n",
      "                                                                  Reparation og vedligeholdelse af skibe og både       0.00      0.00      0.00         0\n",
      "                                                                              Reproduktion af indspillede medier       0.00      0.00      0.00         0\n",
      "                                                                                                    Restauranter       0.53      0.28      0.36      4756\n",
      "                                                                                      Revalideringsinstitutioner       0.00      0.00      0.00         0\n",
      "                                                                                      Risiko- og skadesvurdering       0.00      0.00      0.00         0\n",
      "                                                                                                         Rumfart       0.00      0.00      0.00         0\n",
      "                                                                                 Rutebuskørsel, by- og nærtrafik       0.00      0.00      0.00         0\n",
      "                                                                       Rutebuskørsel, fjerntrafik og skolebusser       0.00      0.00      0.00         0\n",
      "                                                                                                    Ruteflyvning       0.00      0.00      0.00         0\n",
      "                                               Rådgivende ingeniørvirksomhed inden for byggeri og anlægsarbejder       0.12      0.68      0.21       179\n",
      "                                            Rådgivende ingeniørvirksomhed inden for produktions- og maskinteknik       0.00      0.25      0.01         8\n",
      "                                                                                                    Rørtransport       0.00      0.00      0.00         0\n",
      "                                                                           S-togstrafik, metro og andre nærbaner       0.00      0.00      0.00         0\n",
      "                            Salg, vedligeholdelse og reparation af motorcykler og reservedele og tilbehør hertil       0.00      0.00      0.00         0\n",
      "                                                                                                  Saltindvinding       0.00      0.00      0.00         0\n",
      "                                                                               Satellitbaseret telekommunikation       0.00      0.00      0.00         0\n",
      "                                                                            Selvstændigt udøvende scenekunstnere       0.01      0.19      0.01        26\n",
      "                                                                                                Servicestationer       0.62      0.96      0.75       166\n",
      "                                                         Serviceydelser i forbindelse med anden råstofindvinding       0.00      0.00      0.00         0\n",
      "                                                                      Serviceydelser i forbindelse med husdyravl       0.02      0.70      0.04        10\n",
      "                                               Serviceydelser i forbindelse med indvinding af råolie og naturgas       0.00      0.00      0.00         0\n",
      "                                                                       Serviceydelser i forbindelse med luftfart       0.00      0.00      0.00         0\n",
      "                                                                      Serviceydelser i forbindelse med planteavl       0.08      0.69      0.14        80\n",
      "                                                             Serviceydelser i forbindelse med sikkerhedssystemer       0.00      0.00      0.00         0\n",
      "                                                                                     Serviceydelser til skovbrug       0.00      0.00      0.00         0\n",
      "                                                                                                    Skibsmæglere       0.00      0.00      0.00         0\n",
      "                                                                            Skolefritidsordninger og fritidshjem       0.58      0.96      0.73       228\n",
      "                                                                                                Skorstensfejning       0.00      0.00      0.00         0\n",
      "                                                                                             Skotøjsforretninger       0.16      0.92      0.27        36\n",
      "                                                                                                        Skovning       0.00      0.00      0.00         0\n",
      "                                                                                           Skønheds- og hudpleje       0.19      0.80      0.31       220\n",
      "                                                                               Slagter- og viktualieforretninger       0.02      1.00      0.04         4\n",
      "                                         Smedning, presning, sænksmedning og valsning af metal: pulvermetallurgi       0.00      0.00      0.00         0\n",
      "                                                                 Specialiseret engroshandel med fødevarer i.a.n.       0.00      0.00      0.00         0\n",
      "                                                                                  Specialskoler for handicappede       0.00      0.00      0.00         0\n",
      "                                                                                                      Speditører       0.03      0.55      0.06        20\n",
      "                                                                                                   Sportsklubber       0.59      0.82      0.69       783\n",
      "                                                                                   Stationer, godsterminaler mv.       0.00      0.00      0.00         0\n",
      "                                                                                             Stukkatørvirksomhed       0.00      0.00      0.00         0\n",
      "                                                               Støbning af andre ikke-jernholdige metalprodukter       0.00      0.00      0.00         0\n",
      "                                                                                       Støbning af jernprodukter       0.00      0.00      0.00         0\n",
      "                                                                                   Støbning af letmetalprodukter       0.00      0.00      0.00         0\n",
      "                                                                                       Støbning af stålprodukter       0.00      0.00      0.00         0\n",
      "                                                                Sundhedspleje, hjemmesygepleje og jordemødre mv.       0.10      1.00      0.18        14\n",
      "                                                                                   Sundhedsvæsen i øvrigt i.a.n.       0.66      0.20      0.31      9529\n",
      "                                                                                                   Supermarkeder       0.27      0.96      0.43        94\n",
      "                                                                                    Sø- og kysttransport af gods       0.03      1.00      0.05         4\n",
      "                                                                              Sø- og kysttransport af passagerer       0.00      0.00      0.00         0\n",
      "                                                                                           Tagdækningsvirksomhed       0.01      1.00      0.01         2\n",
      "                                                                                                      Taxikørsel       0.34      0.92      0.49       317\n",
      "                                                                                    Teater- og koncertvirksomhed       0.04      0.80      0.07        20\n",
      "                                                                                   Teknisk afprøvning og kontrol       0.16      1.00      0.27        37\n",
      "                                                                                    Tekniske skoler og fagskoler       0.02      1.00      0.03         3\n",
      "                                                            Tilhugning, tilskæring og færdigbearbejdning af sten       0.00      0.00      0.00         0\n",
      "                                                                                              Tobaksforretninger       0.00      0.00      0.00         0\n",
      "                                                                                    Transmission af elektricitet       0.00      0.00      0.00         0\n",
      "                                                                             Transport af gods ad indre vandveje       0.00      0.00      0.00         0\n",
      "                                                                       Transport af passagerer ad indre vandveje       0.00      0.00      0.00         0\n",
      "                                                                                            Trykning af dagblade       0.00      0.00      0.00         0\n",
      "                                                                                       Trådløs telekommunikation       0.00      0.00      0.00         0\n",
      "                                                                     Turistkørsel og anden landpassagertransport       0.13      0.98      0.23        44\n",
      "                                                                                                   Tv-virksomhed       0.00      0.00      0.00         0\n",
      "                                                                                                 Tøjforretninger       0.37      0.39      0.38      1577\n",
      "                                                                            Tømrer- og bygningssnedkervirksomhed       0.84      0.08      0.15     41886\n",
      "                                                                                             Udenrigsanliggender       0.00      0.00      0.00         0\n",
      "                                                                   Udførelse af gulvbelægninger og vægbeklædning       0.02      0.91      0.05        11\n",
      "                                                                                 Udgivelse af aviser og dagblade       0.23      0.93      0.37        15\n",
      "                                                                                              Udgivelse af bøger       0.08      0.75      0.14        44\n",
      "                                                                                       Udgivelse af computerspil       0.00      0.00      0.00         0\n",
      "                                                                         Udgivelse af distrikts- og annonceblade       0.00      0.00      0.00         0\n",
      "                                                                      Udgivelse af telefonbøger og adresselister       0.00      0.00      0.00         0\n",
      "                                                                              Udgivelse af ugeblade og magasiner       0.00      0.00      0.00         0\n",
      "                                                  Udlejning af kontormaskiner og -udstyr, computere og it-udstyr       0.00      0.00      0.00         0\n",
      "                                                                            Udlejning af videobånd og videodisks       0.00      0.00      0.00         0\n",
      "                               Udlejning og leasing af andet materiel, udstyr og andre materielle aktiver i.a.n.       0.02      0.29      0.03        35\n",
      "                               Udlejning og leasing af andre varer til personlig brug og husholdningsbrug i.a.n.       0.01      1.00      0.01         1\n",
      "                                                           Udlejning og leasing af biler og lette motorkøretøjer       0.00      0.00      0.00         0\n",
      "                                                                     Udlejning og leasing af entreprenørmateriel       0.01      0.83      0.03         6\n",
      "                                                            Udlejning og leasing af landbrugsmaskiner og -udstyr       0.00      0.00      0.00         0\n",
      "                                                                               Udlejning og leasing af lastbiler       0.00      0.00      0.00         0\n",
      "                                                                            Udlejning og leasing af luftfartøjer       0.00      0.00      0.00         0\n",
      "                                                                           Udlejning og leasing af skibe og både       0.00      0.00      0.00         0\n",
      "                                                               Udlejning og leasing af varer til fritid og sport       0.00      0.00      0.00         0\n",
      "                                                                                     Udsavning og høvling af træ       0.00      0.00      0.00         0\n",
      "                                                                           Undervisning i kulturelle discipliner       0.01      1.00      0.03         4\n",
      "                                                                          Undervisning inden for sport og fritid       0.04      0.74      0.08        47\n",
      "                                                                                            Undervognsbehandling       0.00      0.00      0.00         0\n",
      "                                                                                         Ungdoms- og efterskoler       0.09      0.94      0.17        16\n",
      "                                                                               VVS- og blikkenslagerforretninger       0.46      0.73      0.56       757\n",
      "                                                                                                   Vandforsyning       0.88      0.88      0.88       741\n",
      "                                                                                                  Varmeforsyning       0.19      1.00      0.32        44\n",
      "                                                                                                Vejgodstransport       0.55      0.50      0.52      2155\n",
      "                                                                                Ventureselskaber og kapitalfonde       0.00      0.00      0.00         0\n",
      "                                                             Videregående uddannelser ikke på universitetsniveau       0.10      1.00      0.18         9\n",
      "                                                                  Videregående uddannelser på universitetsniveau       0.21      0.97      0.35        34\n",
      "                                                                                                   Vikarbureauer       0.01      0.60      0.03        10\n",
      "                                                                                                 Vinduespolering       0.04      0.92      0.08        24\n",
      "                                                                                                      Vuggestuer       0.00      0.00      0.00         0\n",
      "                                                                                      Værdipapir- og varemægling       0.00      0.00      0.00         0\n",
      "                                                                                            Vævning af tekstiler       0.00      0.00      0.00         0\n",
      "                                                                                                     Webportaler       0.00      0.00      0.00         0\n",
      "\n",
      "                                                                                                     avg / total       0.66      0.26      0.28    179059\n",
      "\n"
     ]
    },
    {
     "name": "stderr",
     "output_type": "stream",
     "text": [
      "/Users/andersbarfod/Documents/python/pydata/Notebooks/erhvervsstyrelsen/venv/lib/python3.6/site-packages/sklearn/metrics/classification.py:1137: UndefinedMetricWarning: Recall and F-score are ill-defined and being set to 0.0 in labels with no true samples.\n",
      "  'recall', 'true', average, warn_for)\n"
     ]
    }
   ],
   "source": [
    "print(classification_report(predictions,branche_test))"
   ]
  },
  {
   "cell_type": "markdown",
   "metadata": {},
   "source": [
    "Funnktion til at anbefale en branche"
   ]
  },
  {
   "cell_type": "code",
   "execution_count": 16,
   "metadata": {
    "collapsed": true
   },
   "outputs": [],
   "source": [
    "def predict_business(name):\n",
    "    return pipeline.predict([name])[0]"
   ]
  },
  {
   "cell_type": "markdown",
   "metadata": {},
   "source": [
    "# Output"
   ]
  },
  {
   "cell_type": "markdown",
   "metadata": {},
   "source": [
    "Herunder kan den trænede model nu bruges til at anbefale en brache"
   ]
  },
  {
   "cell_type": "code",
   "execution_count": 17,
   "metadata": {},
   "outputs": [
    {
     "data": {
      "text/plain": [
       "'Tømrer- og bygningssnedkervirksomhed'"
      ]
     },
     "execution_count": 17,
     "metadata": {},
     "output_type": "execute_result"
    }
   ],
   "source": [
    "predict_business('karsten dahl og sønner aps')"
   ]
  },
  {
   "cell_type": "markdown",
   "metadata": {},
   "source": [
    "Gemmer pipline objektet så det kan bruge i webapp"
   ]
  },
  {
   "cell_type": "code",
   "execution_count": 18,
   "metadata": {
    "scrolled": true
   },
   "outputs": [
    {
     "data": {
      "text/plain": [
       "['../app/model/predict_business.pkl']"
      ]
     },
     "execution_count": 18,
     "metadata": {},
     "output_type": "execute_result"
    }
   ],
   "source": [
    "joblib.dump(pipeline, '../app/model/predict_business.pkl')"
   ]
  }
 ],
 "metadata": {
  "kernelspec": {
   "display_name": "erhvervsstyrelsen",
   "language": "python",
   "name": "erhvervsstyrelsen"
  },
  "language_info": {
   "codemirror_mode": {
    "name": "ipython",
    "version": 3
   },
   "file_extension": ".py",
   "mimetype": "text/x-python",
   "name": "python",
   "nbconvert_exporter": "python",
   "pygments_lexer": "ipython3",
   "version": "3.6.1"
  }
 },
 "nbformat": 4,
 "nbformat_minor": 2
}
